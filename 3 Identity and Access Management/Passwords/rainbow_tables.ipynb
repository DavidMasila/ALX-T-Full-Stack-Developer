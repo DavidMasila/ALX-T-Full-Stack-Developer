{
 "cells": [
  {
   "cell_type": "code",
   "execution_count": 1,
   "metadata": {},
   "outputs": [
    {
     "name": "stdout",
     "output_type": "stream",
     "text": [
      "['123456', 'password', '12345678', 'qwerty', '123456789', '12345', '1234', '111111', '1234567']\n"
     ]
    }
   ],
   "source": [
    "with open(\"nist_10000.txt\", newline='') as bad_passwords:\n",
    "    nist_bad=bad_passwords.read().split('\\n')\n",
    "\n",
    "print(nist_bad[1:10])"
   ]
  },
  {
   "cell_type": "code",
   "execution_count": 2,
   "metadata": {},
   "outputs": [],
   "source": [
    "# The following data is a normalized simplified user table\n",
    "# Imagine this information was stolen or leaked\n",
    "leaked_users_table = {\n",
    "    'jamie': {\n",
    "        'username': 'jamie',\n",
    "        'role': 'subscriber',\n",
    "        'md5': '203ad5ffa1d7c650ad681fdff3965cd2'\n",
    "    }, \n",
    "    'amanda': {\n",
    "        'username': 'amanda',\n",
    "        'role': 'administrator',\n",
    "        'md5': '315eb115d98fcbad39ffc5edebd669c9'\n",
    "    }, \n",
    "    'chiaki': {\n",
    "        'username': 'chiaki',\n",
    "        'role': 'subscriber',\n",
    "        'md5': '941c76b34f8687e46af0d94c167d1403'\n",
    "    }, \n",
    "    'viraj': {\n",
    "        'username': 'viraj',\n",
    "        'role': 'employee',\n",
    "        'md5': '319f4d26e3c536b5dd871bb2c52e3178'\n",
    "    },\n",
    "}"
   ]
  },
  {
   "cell_type": "code",
   "execution_count": 4,
   "metadata": {},
   "outputs": [
    {
     "data": {
      "text/plain": [
       "'8bea7325cb48514196063a1f74cf18a4'"
      ]
     },
     "execution_count": 4,
     "metadata": {},
     "output_type": "execute_result"
    }
   ],
   "source": [
    "import hashlib\n",
    "word='blueberry'\n",
    "hashlib.md5(word.encode()).hexdigest()"
   ]
  },
  {
   "cell_type": "code",
   "execution_count": 19,
   "metadata": {},
   "outputs": [
    {
     "name": "stdout",
     "output_type": "stream",
     "text": [
      "jamie:\thello1\n",
      "amanda:\tqweasdzxc\n",
      "chiaki:\t******* hash not found in rainbow table\n",
      "viraj:\tPASSWORD\n"
     ]
    }
   ],
   "source": [
    "# RAINBOW TABLE SOLUTION\n",
    "rainbow_table = {}\n",
    "for word in nist_bad:\n",
    "    hashed_word = hashlib.md5(word.encode()).hexdigest()\n",
    "    rainbow_table[hashed_word] = word\n",
    "    \n",
    "# Use the Rainbow table to determine the plain text password\n",
    "for user in leaked_users_table.keys():\n",
    "    try:\n",
    "        print(user + \":\\t\" + rainbow_table[leaked_users_table[user]['md5']])\n",
    "    except KeyError:\n",
    "        print(user + \":\\t\" + '******* hash not found in rainbow table')"
   ]
  },
  {
   "cell_type": "code",
   "execution_count": 17,
   "metadata": {},
   "outputs": [
    {
     "data": {
      "text/plain": [
       "dict_keys(['jamie', 'amanda', 'chiaki', 'viraj'])"
      ]
     },
     "execution_count": 17,
     "metadata": {},
     "output_type": "execute_result"
    }
   ],
   "source": [
    "leaked_users_table.keys()"
   ]
  },
  {
   "cell_type": "code",
   "execution_count": null,
   "metadata": {},
   "outputs": [],
   "source": []
  }
 ],
 "metadata": {
  "kernelspec": {
   "display_name": "Python 3.10.7 64-bit",
   "language": "python",
   "name": "python3"
  },
  "language_info": {
   "codemirror_mode": {
    "name": "ipython",
    "version": 3
   },
   "file_extension": ".py",
   "mimetype": "text/x-python",
   "name": "python",
   "nbconvert_exporter": "python",
   "pygments_lexer": "ipython3",
   "version": "3.10.7"
  },
  "orig_nbformat": 4,
  "vscode": {
   "interpreter": {
    "hash": "41ac7ed2cac5d6254b7b2abea4959a7be9c0eefb9eaa37eb1ede83df521477fe"
   }
  }
 },
 "nbformat": 4,
 "nbformat_minor": 2
}
