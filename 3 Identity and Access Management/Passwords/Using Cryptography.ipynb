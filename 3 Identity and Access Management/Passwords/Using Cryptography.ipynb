{
 "cells": [
  {
   "cell_type": "code",
   "execution_count": 1,
   "metadata": {},
   "outputs": [],
   "source": [
    "from cryptography.fernet import Fernet"
   ]
  },
  {
   "cell_type": "code",
   "execution_count": 2,
   "metadata": {},
   "outputs": [
    {
     "name": "stdout",
     "output_type": "stream",
     "text": [
      "b'3lzLl8S2ZqPYiEsieYK36x47Xj9vpmOMdt4iZiA2BTo='\n"
     ]
    }
   ],
   "source": [
    "key=Fernet.generate_key()\n",
    "f = Fernet(key)\n",
    "print(key)"
   ]
  },
  {
   "cell_type": "code",
   "execution_count": 5,
   "metadata": {},
   "outputs": [],
   "source": [
    "plaintext = b\"Masila is good at coding with Python. Perfect!!\""
   ]
  },
  {
   "cell_type": "code",
   "execution_count": 6,
   "metadata": {},
   "outputs": [],
   "source": [
    "ciphertext = f.encrypt(plaintext)"
   ]
  },
  {
   "cell_type": "code",
   "execution_count": 7,
   "metadata": {},
   "outputs": [
    {
     "name": "stdout",
     "output_type": "stream",
     "text": [
      "b'gAAAAABjMOJ-VB3U6wRUshX43vhD10EnBR-cKD8XXr7jqSWwz3yoIZEc3xAnrRC1TEPqFcgRperafElhAJ3nc13qeRdTMTBnGBHJpyiHTA4q3rm0dgnHWoDNQnXlYgCo9XWHYlfIF_CZ'\n"
     ]
    }
   ],
   "source": [
    "print(ciphertext)"
   ]
  },
  {
   "cell_type": "code",
   "execution_count": 8,
   "metadata": {},
   "outputs": [],
   "source": [
    "decrypted_text = f.decrypt(ciphertext)"
   ]
  },
  {
   "cell_type": "code",
   "execution_count": 9,
   "metadata": {},
   "outputs": [
    {
     "name": "stdout",
     "output_type": "stream",
     "text": [
      "b'Masila is good at coding with Python. Perfect!!'\n"
     ]
    }
   ],
   "source": [
    "print(decrypted_text)"
   ]
  },
  {
   "cell_type": "code",
   "execution_count": 11,
   "metadata": {},
   "outputs": [],
   "source": [
    "message = b'encrypting is just as useful'\n",
    "encrypt_message = f.encrypt(message)"
   ]
  },
  {
   "cell_type": "code",
   "execution_count": 12,
   "metadata": {},
   "outputs": [
    {
     "name": "stdout",
     "output_type": "stream",
     "text": [
      "b'gAAAAABjMOPRZ9loOIDDyGCJRb0SAhPdnb9fbjhQ8wm87qAw-BrqK_zqY5if-w4YzMkK0A4URB8mR3neC7I2qw10KgJVO6RvnsgO8KsaxObAVDlp0d5e1jg='\n"
     ]
    }
   ],
   "source": [
    "print(encrypt_message)"
   ]
  },
  {
   "cell_type": "code",
   "execution_count": 13,
   "metadata": {},
   "outputs": [],
   "source": [
    "#decrypt that again\n",
    "decrypted_message=f.decrypt(encrypt_message)"
   ]
  },
  {
   "cell_type": "code",
   "execution_count": 14,
   "metadata": {},
   "outputs": [
    {
     "name": "stdout",
     "output_type": "stream",
     "text": [
      "b'encrypting is just as useful'\n"
     ]
    }
   ],
   "source": [
    "print(decrypted_message)"
   ]
  },
  {
   "cell_type": "code",
   "execution_count": 18,
   "metadata": {},
   "outputs": [
    {
     "name": "stdout",
     "output_type": "stream",
     "text": [
      "b'great job! remember, encryption is only as good as your key secrecy!'\n"
     ]
    }
   ],
   "source": [
    "key=b'8cozhW9kSi5poZ6TWFuMCV123zg-9NORTs3gJq_J5Do='\n",
    "f=Fernet(key)\n",
    "message2 = b'gAAAAABc8Wf3rxaime-363wbhCaIe1FoZUdnFeIXX_Nh9qKSDkpBFPqK8L2HbkM8NCQAxY8yOWbjxzMC4b5uCaeEpqDYCRNIhnqTK8jfzFYfPdozf7NPvGzNBwuuvIxK5NZYJbxQwfK72BNrZCKpfp6frL8m8pdgYbLNFcy6jCJBXATR3gHBb0Y='\n",
    "decoded_message=f.decrypt(message2)\n",
    "print(decoded_message)"
   ]
  }
 ],
 "metadata": {
  "kernelspec": {
   "display_name": "Python 3.10.7 64-bit",
   "language": "python",
   "name": "python3"
  },
  "language_info": {
   "codemirror_mode": {
    "name": "ipython",
    "version": 3
   },
   "file_extension": ".py",
   "mimetype": "text/x-python",
   "name": "python",
   "nbconvert_exporter": "python",
   "pygments_lexer": "ipython3",
   "version": "3.10.7"
  },
  "orig_nbformat": 4,
  "vscode": {
   "interpreter": {
    "hash": "41ac7ed2cac5d6254b7b2abea4959a7be9c0eefb9eaa37eb1ede83df521477fe"
   }
  }
 },
 "nbformat": 4,
 "nbformat_minor": 2
}
